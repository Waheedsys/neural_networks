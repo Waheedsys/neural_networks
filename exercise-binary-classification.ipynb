{
 "cells": [
  {
   "cell_type": "markdown",
   "id": "3a0cbaac",
   "metadata": {
    "papermill": {
     "duration": 0.004859,
     "end_time": "2024-07-14T06:23:35.177334",
     "exception": false,
     "start_time": "2024-07-14T06:23:35.172475",
     "status": "completed"
    },
    "tags": []
   },
   "source": [
    "**This notebook is an exercise in the [Intro to Deep Learning](https://www.kaggle.com/learn/intro-to-deep-learning) course.  You can reference the tutorial at [this link](https://www.kaggle.com/ryanholbrook/binary-classification).**\n",
    "\n",
    "---\n"
   ]
  },
  {
   "cell_type": "markdown",
   "id": "05576a7e",
   "metadata": {
    "papermill": {
     "duration": 0.004038,
     "end_time": "2024-07-14T06:23:35.185871",
     "exception": false,
     "start_time": "2024-07-14T06:23:35.181833",
     "status": "completed"
    },
    "tags": []
   },
   "source": [
    "# Introduction #\n",
    "\n",
    "In this exercise, you'll build a model to predict hotel cancellations with a binary classifier."
   ]
  },
  {
   "cell_type": "code",
   "execution_count": 1,
   "id": "aa6ec61f",
   "metadata": {
    "execution": {
     "iopub.execute_input": "2024-07-14T06:23:35.195847Z",
     "iopub.status.busy": "2024-07-14T06:23:35.195483Z",
     "iopub.status.idle": "2024-07-14T06:23:35.978178Z",
     "shell.execute_reply": "2024-07-14T06:23:35.977153Z"
    },
    "lines_to_next_cell": 0,
    "papermill": {
     "duration": 0.790571,
     "end_time": "2024-07-14T06:23:35.980666",
     "exception": false,
     "start_time": "2024-07-14T06:23:35.190095",
     "status": "completed"
    },
    "tags": []
   },
   "outputs": [
    {
     "name": "stderr",
     "output_type": "stream",
     "text": [
      "/tmp/ipykernel_25/3338970720.py:3: MatplotlibDeprecationWarning: The seaborn styles shipped by Matplotlib are deprecated since 3.6, as they no longer correspond to the styles shipped by seaborn. However, they will remain available as 'seaborn-v0_8-<style>'. Alternatively, directly use the seaborn API instead.\n",
      "  plt.style.use('seaborn-whitegrid')\n"
     ]
    }
   ],
   "source": [
    "# Setup plotting\n",
    "import matplotlib.pyplot as plt\n",
    "plt.style.use('seaborn-whitegrid')\n",
    "# Set Matplotlib defaults\n",
    "plt.rc('figure', autolayout=True)\n",
    "plt.rc('axes', labelweight='bold', labelsize='large',\n",
    "       titleweight='bold', titlesize=18, titlepad=10)\n",
    "plt.rc('animation', html='html5')\n",
    "\n",
    "# Setup feedback system\n",
    "from learntools.core import binder\n",
    "binder.bind(globals())\n",
    "from learntools.deep_learning_intro.ex6 import *"
   ]
  },
  {
   "cell_type": "markdown",
   "id": "42083aed",
   "metadata": {
    "papermill": {
     "duration": 0.004247,
     "end_time": "2024-07-14T06:23:35.989741",
     "exception": false,
     "start_time": "2024-07-14T06:23:35.985494",
     "status": "completed"
    },
    "tags": []
   },
   "source": [
    "First, load the *Hotel Cancellations* dataset."
   ]
  },
  {
   "cell_type": "code",
   "execution_count": 2,
   "id": "ceb72b44",
   "metadata": {
    "execution": {
     "iopub.execute_input": "2024-07-14T06:23:36.000767Z",
     "iopub.status.busy": "2024-07-14T06:23:35.999864Z",
     "iopub.status.idle": "2024-07-14T06:23:38.665595Z",
     "shell.execute_reply": "2024-07-14T06:23:38.664642Z"
    },
    "lines_to_next_cell": 2,
    "papermill": {
     "duration": 2.673759,
     "end_time": "2024-07-14T06:23:38.668096",
     "exception": false,
     "start_time": "2024-07-14T06:23:35.994337",
     "status": "completed"
    },
    "tags": []
   },
   "outputs": [],
   "source": [
    "import pandas as pd\n",
    "\n",
    "from sklearn.model_selection import train_test_split\n",
    "from sklearn.preprocessing import StandardScaler, OneHotEncoder\n",
    "from sklearn.impute import SimpleImputer\n",
    "from sklearn.pipeline import make_pipeline\n",
    "from sklearn.compose import make_column_transformer\n",
    "\n",
    "hotel = pd.read_csv('../input/dl-course-data/hotel.csv')\n",
    "\n",
    "X = hotel.copy()\n",
    "y = X.pop('is_canceled')\n",
    "\n",
    "X['arrival_date_month'] = \\\n",
    "    X['arrival_date_month'].map(\n",
    "        {'January':1, 'February': 2, 'March':3,\n",
    "         'April':4, 'May':5, 'June':6, 'July':7,\n",
    "         'August':8, 'September':9, 'October':10,\n",
    "         'November':11, 'December':12}\n",
    "    )\n",
    "\n",
    "features_num = [\n",
    "    \"lead_time\", \"arrival_date_week_number\",\n",
    "    \"arrival_date_day_of_month\", \"stays_in_weekend_nights\",\n",
    "    \"stays_in_week_nights\", \"adults\", \"children\", \"babies\",\n",
    "    \"is_repeated_guest\", \"previous_cancellations\",\n",
    "    \"previous_bookings_not_canceled\", \"required_car_parking_spaces\",\n",
    "    \"total_of_special_requests\", \"adr\",\n",
    "]\n",
    "features_cat = [\n",
    "    \"hotel\", \"arrival_date_month\", \"meal\",\n",
    "    \"market_segment\", \"distribution_channel\",\n",
    "    \"reserved_room_type\", \"deposit_type\", \"customer_type\",\n",
    "]\n",
    "\n",
    "transformer_num = make_pipeline(\n",
    "    SimpleImputer(strategy=\"constant\"), # there are a few missing values\n",
    "    StandardScaler(),\n",
    ")\n",
    "transformer_cat = make_pipeline(\n",
    "    SimpleImputer(strategy=\"constant\", fill_value=\"NA\"),\n",
    "    OneHotEncoder(handle_unknown='ignore'),\n",
    ")\n",
    "\n",
    "preprocessor = make_column_transformer(\n",
    "    (transformer_num, features_num),\n",
    "    (transformer_cat, features_cat),\n",
    ")\n",
    "\n",
    "# stratify - make sure classes are evenlly represented across splits\n",
    "X_train, X_valid, y_train, y_valid = \\\n",
    "    train_test_split(X, y, stratify=y, train_size=0.75)\n",
    "\n",
    "X_train = preprocessor.fit_transform(X_train)\n",
    "X_valid = preprocessor.transform(X_valid)\n",
    "\n",
    "input_shape = [X_train.shape[1]]"
   ]
  },
  {
   "cell_type": "markdown",
   "id": "600cc14f",
   "metadata": {
    "papermill": {
     "duration": 0.004838,
     "end_time": "2024-07-14T06:23:38.677600",
     "exception": false,
     "start_time": "2024-07-14T06:23:38.672762",
     "status": "completed"
    },
    "tags": []
   },
   "source": [
    "# 1) Define Model #\n",
    "\n",
    "The model we'll use this time will have both batch normalization and dropout layers. To ease reading we've broken the diagram into blocks, but you can define it layer by layer as usual.\n",
    "\n",
    "Define a model with an architecture given by this diagram:\n",
    "\n",
    "<figure style=\"padding: 1em;\">\n",
    "<img src=\"https://storage.googleapis.com/kaggle-media/learn/images/V04o59Z.png\" width=\"400\" alt=\"Diagram of network architecture: BatchNorm, Dense, BatchNorm, Dropout, Dense, BatchNorm, Dropout, Dense.\">\n",
    "<figcaption style=\"textalign: center; font-style: italic\"><center>Diagram of a binary classifier.</center></figcaption>\n",
    "</figure>\n"
   ]
  },
  {
   "cell_type": "code",
   "execution_count": 3,
   "id": "dcdd3f18",
   "metadata": {
    "execution": {
     "iopub.execute_input": "2024-07-14T06:23:38.687859Z",
     "iopub.status.busy": "2024-07-14T06:23:38.687510Z",
     "iopub.status.idle": "2024-07-14T06:23:52.075721Z",
     "shell.execute_reply": "2024-07-14T06:23:52.074807Z"
    },
    "lines_to_next_cell": 2,
    "papermill": {
     "duration": 13.395641,
     "end_time": "2024-07-14T06:23:52.077670",
     "exception": false,
     "start_time": "2024-07-14T06:23:38.682029",
     "status": "completed"
    },
    "tags": []
   },
   "outputs": [
    {
     "name": "stderr",
     "output_type": "stream",
     "text": [
      "2024-07-14 06:23:40.522443: E external/local_xla/xla/stream_executor/cuda/cuda_dnn.cc:9261] Unable to register cuDNN factory: Attempting to register factory for plugin cuDNN when one has already been registered\n",
      "2024-07-14 06:23:40.522551: E external/local_xla/xla/stream_executor/cuda/cuda_fft.cc:607] Unable to register cuFFT factory: Attempting to register factory for plugin cuFFT when one has already been registered\n",
      "2024-07-14 06:23:40.659483: E external/local_xla/xla/stream_executor/cuda/cuda_blas.cc:1515] Unable to register cuBLAS factory: Attempting to register factory for plugin cuBLAS when one has already been registered\n"
     ]
    },
    {
     "data": {
      "application/javascript": [
       "parent.postMessage({\"jupyterEvent\": \"custom.exercise_interaction\", \"data\": {\"outcomeType\": 1, \"valueTowardsCompletion\": 0.3333333333333333, \"interactionType\": 1, \"questionType\": 2, \"questionId\": \"1_Q1\", \"learnToolsVersion\": \"0.3.4\", \"failureMessage\": \"\", \"exceptionClass\": \"\", \"trace\": \"\"}}, \"*\")"
      ],
      "text/plain": [
       "<IPython.core.display.Javascript object>"
      ]
     },
     "metadata": {},
     "output_type": "display_data"
    },
    {
     "data": {
      "text/markdown": [
       "<span style=\"color:#33cc33\">Correct</span>"
      ],
      "text/plain": [
       "Correct"
      ]
     },
     "metadata": {},
     "output_type": "display_data"
    }
   ],
   "source": [
    "from tensorflow import keras\n",
    "from tensorflow.keras import layers\n",
    "\n",
    "# YOUR CODE HERE: define the model given in the diagram\n",
    "model = keras.Sequential([\n",
    "    layers.BatchNormalization(input_shape=input_shape),\n",
    "    layers.Dense(256, activation='relu'), \n",
    "    layers.BatchNormalization(),\n",
    "    layers.Dropout(0.3),\n",
    "    layers.Dense(256, activation='relu'), \n",
    "    layers.BatchNormalization(),\n",
    "    layers.Dropout(0.3),\n",
    "    layers.Dense(1, activation='sigmoid')\n",
    "]\n",
    ")\n",
    "\n",
    "# Check your answer\n",
    "q_1.check()"
   ]
  },
  {
   "cell_type": "markdown",
   "id": "6034e2a3",
   "metadata": {
    "papermill": {
     "duration": 0.004715,
     "end_time": "2024-07-14T06:23:52.087541",
     "exception": false,
     "start_time": "2024-07-14T06:23:52.082826",
     "status": "completed"
    },
    "tags": []
   },
   "source": [
    "# 2) Add Optimizer, Loss, and Metric #\n",
    "\n",
    "Now compile the model with the Adam optimizer and binary versions of the cross-entropy loss and accuracy metric."
   ]
  },
  {
   "cell_type": "code",
   "execution_count": 4,
   "id": "8e8e5782",
   "metadata": {
    "execution": {
     "iopub.execute_input": "2024-07-14T06:23:52.098505Z",
     "iopub.status.busy": "2024-07-14T06:23:52.097967Z",
     "iopub.status.idle": "2024-07-14T06:23:52.120883Z",
     "shell.execute_reply": "2024-07-14T06:23:52.119950Z"
    },
    "lines_to_next_cell": 0,
    "papermill": {
     "duration": 0.030777,
     "end_time": "2024-07-14T06:23:52.123047",
     "exception": false,
     "start_time": "2024-07-14T06:23:52.092270",
     "status": "completed"
    },
    "tags": []
   },
   "outputs": [
    {
     "data": {
      "application/javascript": [
       "parent.postMessage({\"jupyterEvent\": \"custom.exercise_interaction\", \"data\": {\"outcomeType\": 1, \"valueTowardsCompletion\": 0.3333333333333333, \"interactionType\": 1, \"questionType\": 2, \"questionId\": \"2_Q2\", \"learnToolsVersion\": \"0.3.4\", \"failureMessage\": \"\", \"exceptionClass\": \"\", \"trace\": \"\"}}, \"*\")"
      ],
      "text/plain": [
       "<IPython.core.display.Javascript object>"
      ]
     },
     "metadata": {},
     "output_type": "display_data"
    },
    {
     "data": {
      "text/markdown": [
       "<span style=\"color:#33cc33\">Correct</span>"
      ],
      "text/plain": [
       "Correct"
      ]
     },
     "metadata": {},
     "output_type": "display_data"
    }
   ],
   "source": [
    "# YOUR CODE HERE\n",
    "model.compile(\n",
    "    optimizer='adam', \n",
    "    loss='binary_crossentropy', \n",
    "    metrics= ['binary_accuracy']\n",
    ")\n",
    "\n",
    "# Check your answer\n",
    "q_2.check()"
   ]
  },
  {
   "cell_type": "code",
   "execution_count": 5,
   "id": "be286b5b",
   "metadata": {
    "execution": {
     "iopub.execute_input": "2024-07-14T06:23:52.134642Z",
     "iopub.status.busy": "2024-07-14T06:23:52.134356Z",
     "iopub.status.idle": "2024-07-14T06:23:52.138041Z",
     "shell.execute_reply": "2024-07-14T06:23:52.137250Z"
    },
    "lines_to_next_cell": 0,
    "papermill": {
     "duration": 0.011695,
     "end_time": "2024-07-14T06:23:52.139969",
     "exception": false,
     "start_time": "2024-07-14T06:23:52.128274",
     "status": "completed"
    },
    "tags": []
   },
   "outputs": [],
   "source": [
    "# Lines below will give you a hint or solution code\n",
    "#q_2.hint()\n",
    "#q_2.solution()"
   ]
  },
  {
   "cell_type": "markdown",
   "id": "c07ff81b",
   "metadata": {
    "papermill": {
     "duration": 0.005017,
     "end_time": "2024-07-14T06:23:52.150263",
     "exception": false,
     "start_time": "2024-07-14T06:23:52.145246",
     "status": "completed"
    },
    "tags": []
   },
   "source": [
    "Finally, run this cell to train the model and view the learning curves. It may run for around 60 to 70 epochs, which could take a minute or two."
   ]
  },
  {
   "cell_type": "code",
   "execution_count": 6,
   "id": "d1ddc2e0",
   "metadata": {
    "execution": {
     "iopub.execute_input": "2024-07-14T06:23:52.161752Z",
     "iopub.status.busy": "2024-07-14T06:23:52.161416Z",
     "iopub.status.idle": "2024-07-14T06:24:35.457313Z",
     "shell.execute_reply": "2024-07-14T06:24:35.456385Z"
    },
    "papermill": {
     "duration": 43.304229,
     "end_time": "2024-07-14T06:24:35.459527",
     "exception": false,
     "start_time": "2024-07-14T06:23:52.155298",
     "status": "completed"
    },
    "tags": []
   },
   "outputs": [
    {
     "name": "stdout",
     "output_type": "stream",
     "text": [
      "Epoch 1/200\n"
     ]
    },
    {
     "name": "stderr",
     "output_type": "stream",
     "text": [
      "WARNING: All log messages before absl::InitializeLog() is called are written to STDERR\n",
      "I0000 00:00:1720938236.494386      66 device_compiler.h:186] Compiled cluster using XLA!  This line is logged at most once for the lifetime of the process.\n"
     ]
    },
    {
     "name": "stdout",
     "output_type": "stream",
     "text": [
      "175/175 [==============================] - 6s 7ms/step - loss: 0.4821 - binary_accuracy: 0.7699 - val_loss: 0.4316 - val_binary_accuracy: 0.7916\n",
      "Epoch 2/200\n",
      "175/175 [==============================] - 1s 6ms/step - loss: 0.4225 - binary_accuracy: 0.8017 - val_loss: 0.4039 - val_binary_accuracy: 0.8119\n",
      "Epoch 3/200\n",
      "175/175 [==============================] - 1s 6ms/step - loss: 0.4082 - binary_accuracy: 0.8086 - val_loss: 0.3955 - val_binary_accuracy: 0.8150\n",
      "Epoch 4/200\n",
      "175/175 [==============================] - 1s 5ms/step - loss: 0.4004 - binary_accuracy: 0.8130 - val_loss: 0.3907 - val_binary_accuracy: 0.8191\n",
      "Epoch 5/200\n",
      "175/175 [==============================] - 1s 5ms/step - loss: 0.3958 - binary_accuracy: 0.8151 - val_loss: 0.3889 - val_binary_accuracy: 0.8195\n",
      "Epoch 6/200\n",
      "175/175 [==============================] - 1s 5ms/step - loss: 0.3914 - binary_accuracy: 0.8181 - val_loss: 0.3836 - val_binary_accuracy: 0.8217\n",
      "Epoch 7/200\n",
      "175/175 [==============================] - 1s 5ms/step - loss: 0.3872 - binary_accuracy: 0.8218 - val_loss: 0.3832 - val_binary_accuracy: 0.8221\n",
      "Epoch 8/200\n",
      "175/175 [==============================] - 1s 5ms/step - loss: 0.3852 - binary_accuracy: 0.8209 - val_loss: 0.3794 - val_binary_accuracy: 0.8254\n",
      "Epoch 9/200\n",
      "175/175 [==============================] - 1s 5ms/step - loss: 0.3809 - binary_accuracy: 0.8243 - val_loss: 0.3799 - val_binary_accuracy: 0.8249\n",
      "Epoch 10/200\n",
      "175/175 [==============================] - 1s 5ms/step - loss: 0.3780 - binary_accuracy: 0.8258 - val_loss: 0.3749 - val_binary_accuracy: 0.8277\n",
      "Epoch 11/200\n",
      "175/175 [==============================] - 1s 5ms/step - loss: 0.3764 - binary_accuracy: 0.8258 - val_loss: 0.3739 - val_binary_accuracy: 0.8277\n",
      "Epoch 12/200\n",
      "175/175 [==============================] - 1s 5ms/step - loss: 0.3735 - binary_accuracy: 0.8272 - val_loss: 0.3707 - val_binary_accuracy: 0.8296\n",
      "Epoch 13/200\n",
      "175/175 [==============================] - 1s 7ms/step - loss: 0.3702 - binary_accuracy: 0.8288 - val_loss: 0.3733 - val_binary_accuracy: 0.8289\n",
      "Epoch 14/200\n",
      "175/175 [==============================] - 1s 6ms/step - loss: 0.3687 - binary_accuracy: 0.8300 - val_loss: 0.3675 - val_binary_accuracy: 0.8309\n",
      "Epoch 15/200\n",
      "175/175 [==============================] - 1s 5ms/step - loss: 0.3678 - binary_accuracy: 0.8305 - val_loss: 0.3712 - val_binary_accuracy: 0.8280\n",
      "Epoch 16/200\n",
      "175/175 [==============================] - 1s 5ms/step - loss: 0.3651 - binary_accuracy: 0.8322 - val_loss: 0.3691 - val_binary_accuracy: 0.8305\n",
      "Epoch 17/200\n",
      "175/175 [==============================] - 1s 5ms/step - loss: 0.3629 - binary_accuracy: 0.8330 - val_loss: 0.3656 - val_binary_accuracy: 0.8328\n",
      "Epoch 18/200\n",
      "175/175 [==============================] - 1s 5ms/step - loss: 0.3618 - binary_accuracy: 0.8331 - val_loss: 0.3652 - val_binary_accuracy: 0.8328\n",
      "Epoch 19/200\n",
      "175/175 [==============================] - 1s 5ms/step - loss: 0.3603 - binary_accuracy: 0.8355 - val_loss: 0.3662 - val_binary_accuracy: 0.8319\n",
      "Epoch 20/200\n",
      "175/175 [==============================] - 1s 5ms/step - loss: 0.3592 - binary_accuracy: 0.8351 - val_loss: 0.3653 - val_binary_accuracy: 0.8325\n",
      "Epoch 21/200\n",
      "175/175 [==============================] - 1s 5ms/step - loss: 0.3571 - binary_accuracy: 0.8357 - val_loss: 0.3646 - val_binary_accuracy: 0.8321\n",
      "Epoch 22/200\n",
      "175/175 [==============================] - 1s 5ms/step - loss: 0.3559 - binary_accuracy: 0.8358 - val_loss: 0.3615 - val_binary_accuracy: 0.8333\n",
      "Epoch 23/200\n",
      "175/175 [==============================] - 1s 6ms/step - loss: 0.3539 - binary_accuracy: 0.8369 - val_loss: 0.3612 - val_binary_accuracy: 0.8334\n",
      "Epoch 24/200\n",
      "175/175 [==============================] - 1s 5ms/step - loss: 0.3544 - binary_accuracy: 0.8368 - val_loss: 0.3591 - val_binary_accuracy: 0.8348\n",
      "Epoch 25/200\n",
      "175/175 [==============================] - 1s 5ms/step - loss: 0.3514 - binary_accuracy: 0.8374 - val_loss: 0.3587 - val_binary_accuracy: 0.8367\n",
      "Epoch 26/200\n",
      "175/175 [==============================] - 1s 5ms/step - loss: 0.3509 - binary_accuracy: 0.8379 - val_loss: 0.3591 - val_binary_accuracy: 0.8342\n",
      "Epoch 27/200\n",
      "175/175 [==============================] - 1s 5ms/step - loss: 0.3497 - binary_accuracy: 0.8391 - val_loss: 0.3625 - val_binary_accuracy: 0.8343\n",
      "Epoch 28/200\n",
      "175/175 [==============================] - 1s 5ms/step - loss: 0.3490 - binary_accuracy: 0.8389 - val_loss: 0.3583 - val_binary_accuracy: 0.8350\n",
      "Epoch 29/200\n",
      "175/175 [==============================] - 1s 5ms/step - loss: 0.3465 - binary_accuracy: 0.8399 - val_loss: 0.3582 - val_binary_accuracy: 0.8340\n"
     ]
    },
    {
     "data": {
      "text/plain": [
       "<Axes: title={'center': 'Accuracy'}>"
      ]
     },
     "execution_count": 6,
     "metadata": {},
     "output_type": "execute_result"
    },
    {
     "data": {
      "image/png": "[encoded data removed]",
      "text/plain": [
       "<Figure size 640x480 with 1 Axes>"
      ]
     },
     "metadata": {},
     "output_type": "display_data"
    },
    {
     "data": {
      "image/png": "[encoded data removed]",
      "text/plain": [
       "<Figure size 640x480 with 1 Axes>"
      ]
     },
     "metadata": {},
     "output_type": "display_data"
    }
   ],
   "source": [
    "early_stopping = keras.callbacks.EarlyStopping(\n",
    "    patience=5,\n",
    "    min_delta=0.001,\n",
    "    restore_best_weights=True,\n",
    ")\n",
    "history = model.fit(\n",
    "    X_train, y_train,\n",
    "    validation_data=(X_valid, y_valid),\n",
    "    batch_size=512,\n",
    "    epochs=200,\n",
    "    callbacks=[early_stopping],\n",
    ")\n",
    "\n",
    "history_df = pd.DataFrame(history.history)\n",
    "history_df.loc[:, ['loss', 'val_loss']].plot(title=\"Cross-entropy\")\n",
    "history_df.loc[:, ['binary_accuracy', 'val_binary_accuracy']].plot(title=\"Accuracy\")"
   ]
  },
  {
   "cell_type": "markdown",
   "id": "884d345f",
   "metadata": {
    "papermill": {
     "duration": 0.048439,
     "end_time": "2024-07-14T06:24:35.555875",
     "exception": false,
     "start_time": "2024-07-14T06:24:35.507436",
     "status": "completed"
    },
    "tags": []
   },
   "source": [
    "# 3) Train and Evaluate #\n",
    "\n",
    "\n",
    "What do you think about the learning curves? Does it look like the model underfit or overfit? Was the cross-entropy loss a good stand-in for accuracy?"
   ]
  },
  {
   "cell_type": "code",
   "execution_count": 7,
   "id": "e02dcef2",
   "metadata": {
    "execution": {
     "iopub.execute_input": "2024-07-14T06:24:35.654175Z",
     "iopub.status.busy": "2024-07-14T06:24:35.653314Z",
     "iopub.status.idle": "2024-07-14T06:24:35.661095Z",
     "shell.execute_reply": "2024-07-14T06:24:35.660178Z"
    },
    "papermill": {
     "duration": 0.058854,
     "end_time": "2024-07-14T06:24:35.663023",
     "exception": false,
     "start_time": "2024-07-14T06:24:35.604169",
     "status": "completed"
    },
    "tags": []
   },
   "outputs": [
    {
     "data": {
      "application/javascript": [
       "parent.postMessage({\"jupyterEvent\": \"custom.exercise_interaction\", \"data\": {\"outcomeType\": 1, \"valueTowardsCompletion\": 0.3333333333333333, \"interactionType\": 1, \"questionType\": 4, \"questionId\": \"3_Q3\", \"learnToolsVersion\": \"0.3.4\", \"failureMessage\": \"\", \"exceptionClass\": \"\", \"trace\": \"\"}}, \"*\")"
      ],
      "text/plain": [
       "<IPython.core.display.Javascript object>"
      ]
     },
     "metadata": {},
     "output_type": "display_data"
    },
    {
     "data": {
      "text/markdown": [
       "<span style=\"color:#33cc33\">Correct:</span> \n",
       "\n",
       "Though we can see the training loss continuing to fall, the early stopping callback prevented any overfitting. Moreover, the accuracy rose at the same rate as the cross-entropy fell, so it appears that minimizing cross-entropy was a good stand-in. All in all, it looks like this training was a success!"
      ],
      "text/plain": [
       "Correct: \n",
       "\n",
       "Though we can see the training loss continuing to fall, the early stopping callback prevented any overfitting. Moreover, the accuracy rose at the same rate as the cross-entropy fell, so it appears that minimizing cross-entropy was a good stand-in. All in all, it looks like this training was a success!"
      ]
     },
     "metadata": {},
     "output_type": "display_data"
    }
   ],
   "source": [
    "# View the solution (Run this cell to receive credit!)\n",
    "q_3.check()"
   ]
  },
  {
   "cell_type": "markdown",
   "id": "f0c13602",
   "metadata": {
    "papermill": {
     "duration": 0.048064,
     "end_time": "2024-07-14T06:24:35.759383",
     "exception": false,
     "start_time": "2024-07-14T06:24:35.711319",
     "status": "completed"
    },
    "tags": []
   },
   "source": [
    "# Conclusion #\n",
    "\n",
    "Congratulations! You've completed Kaggle's *Introduction to Deep Learning* course!\n",
    "\n",
    "With your new skills you're ready to take on more advanced applications like computer vision and sentiment classification. What would you like to do next?\n",
    "\n",
    "Why not try one of our *Getting Started* competitions?\n",
    "\n",
    "- Classify images with TPUs in [**Petals to the Metal**](https://www.kaggle.com/c/tpu-getting-started)\n",
    "- Create art with GANs in [**I'm Something of a Painter Myself**](https://www.kaggle.com/c/gan-getting-started)\n",
    "- Classify Tweets in [**Real or Not? NLP with Disaster Tweets**](https://www.kaggle.com/c/nlp-getting-started)\n",
    "- Detect contradiction and entailment in [**Contradictory, My Dear Watson**](https://www.kaggle.com/c/contradictory-my-dear-watson)\n",
    "\n",
    "Until next time, Kagglers!"
   ]
  },
  {
   "cell_type": "markdown",
   "id": "a7089b39",
   "metadata": {
    "papermill": {
     "duration": 0.048227,
     "end_time": "2024-07-14T06:24:35.855901",
     "exception": false,
     "start_time": "2024-07-14T06:24:35.807674",
     "status": "completed"
    },
    "tags": []
   },
   "source": [
    "---\n",
    "\n",
    "\n",
    "\n",
    "\n",
    "*Have questions or comments? Visit the [course discussion forum](https://www.kaggle.com/learn/intro-to-deep-learning/discussion) to chat with other learners.*"
   ]
  }
 ],
 "metadata": {
  "jupytext": {
   "cell_metadata_filter": "-all",
   "formats": "ipynb"
  },
  "kaggle": {
   "accelerator": "gpu",
   "dataSources": [
    {
     "datasetId": 829369,
     "sourceId": 1480608,
     "sourceType": "datasetVersion"
    }
   ],
   "dockerImageVersionId": 30648,
   "isGpuEnabled": true,
   "isInternetEnabled": false,
   "language": "python",
   "sourceType": "notebook"
  },
  "kernelspec": {
   "display_name": "Python 3",
   "language": "python",
   "name": "python3"
  },
  "language_info": {
   "codemirror_mode": {
    "name": "ipython",
    "version": 3
   },
   "file_extension": ".py",
   "mimetype": "text/x-python",
   "name": "python",
   "nbconvert_exporter": "python",
   "pygments_lexer": "ipython3",
   "version": "3.10.13"
  },
  "papermill": {
   "default_parameters": {},
   "duration": 66.262893,
   "end_time": "2024-07-14T06:24:38.605360",
   "environment_variables": {},
   "exception": null,
   "input_path": "__notebook__.ipynb",
   "output_path": "__notebook__.ipynb",
   "parameters": {},
   "start_time": "2024-07-14T06:23:32.342467",
   "version": "2.5.0"
  }
 },
 "nbformat": 4,
 "nbformat_minor": 5
}

{
 "cells": [
  {
   "cell_type": "markdown",
   "id": "f6223e59",
   "metadata": {
    "papermill": {
     "duration": 0.00645,
     "end_time": "2024-07-13T17:07:23.273376",
     "exception": false,
     "start_time": "2024-07-13T17:07:23.266926",
     "status": "completed"
    },
    "tags": []
   },
   "source": [
    "**This notebook is an exercise in the [Intro to Deep Learning](https://www.kaggle.com/learn/intro-to-deep-learning) course.  You can reference the tutorial at [this link](https://www.kaggle.com/ryanholbrook/dropout-and-batch-normalization).**\n",
    "\n",
    "---\n"
   ]
  },
  {
   "cell_type": "markdown",
   "id": "c052b8b4",
   "metadata": {
    "papermill": {
     "duration": 0.005634,
     "end_time": "2024-07-13T17:07:23.285004",
     "exception": false,
     "start_time": "2024-07-13T17:07:23.279370",
     "status": "completed"
    },
    "tags": []
   },
   "source": [
    "# Introduction #\n",
    "\n",
    "In this exercise, you'll add dropout to the *Spotify* model from Exercise 4 and see how batch normalization can let you successfully train models on difficult datasets.\n",
    "\n",
    "Run the next cell to get started!"
   ]
  },
  {
   "cell_type": "code",
   "execution_count": 1,
   "id": "2d139540",
   "metadata": {
    "execution": {
     "iopub.execute_input": "2024-07-13T17:07:23.298026Z",
     "iopub.status.busy": "2024-07-13T17:07:23.297745Z",
     "iopub.status.idle": "2024-07-13T17:07:24.015229Z",
     "shell.execute_reply": "2024-07-13T17:07:24.014471Z"
    },
    "papermill": {
     "duration": 0.726684,
     "end_time": "2024-07-13T17:07:24.017587",
     "exception": false,
     "start_time": "2024-07-13T17:07:23.290903",
     "status": "completed"
    },
    "tags": []
   },
   "outputs": [
    {
     "name": "stderr",
     "output_type": "stream",
     "text": [
      "/tmp/ipykernel_26/195640296.py:3: MatplotlibDeprecationWarning: The seaborn styles shipped by Matplotlib are deprecated since 3.6, as they no longer correspond to the styles shipped by seaborn. However, they will remain available as 'seaborn-v0_8-<style>'. Alternatively, directly use the seaborn API instead.\n",
      "  plt.style.use('seaborn-whitegrid')\n"
     ]
    }
   ],
   "source": [
    "# Setup plotting\n",
    "import matplotlib.pyplot as plt\n",
    "plt.style.use('seaborn-whitegrid')\n",
    "# Set Matplotlib defaults\n",
    "plt.rc('figure', autolayout=True)\n",
    "plt.rc('axes', labelweight='bold', labelsize='large',\n",
    "       titleweight='bold', titlesize=18, titlepad=10)\n",
    "plt.rc('animation', html='html5')\n",
    "\n",
    "# Setup feedback system\n",
    "from learntools.core import binder\n",
    "binder.bind(globals())\n",
    "from learntools.deep_learning_intro.ex5 import *"
   ]
  },
  {
   "cell_type": "markdown",
   "id": "a0481d1f",
   "metadata": {
    "papermill": {
     "duration": 0.006191,
     "end_time": "2024-07-13T17:07:24.030928",
     "exception": false,
     "start_time": "2024-07-13T17:07:24.024737",
     "status": "completed"
    },
    "tags": []
   },
   "source": [
    "First load the *Spotify* dataset."
   ]
  },
  {
   "cell_type": "code",
   "execution_count": 2,
   "id": "7ab5c0a7",
   "metadata": {
    "execution": {
     "iopub.execute_input": "2024-07-13T17:07:24.044539Z",
     "iopub.status.busy": "2024-07-13T17:07:24.043797Z",
     "iopub.status.idle": "2024-07-13T17:07:37.528303Z",
     "shell.execute_reply": "2024-07-13T17:07:37.527231Z"
    },
    "papermill": {
     "duration": 13.493397,
     "end_time": "2024-07-13T17:07:37.530325",
     "exception": false,
     "start_time": "2024-07-13T17:07:24.036928",
     "status": "completed"
    },
    "tags": []
   },
   "outputs": [
    {
     "name": "stderr",
     "output_type": "stream",
     "text": [
      "2024-07-13 17:07:26.818287: E external/local_xla/xla/stream_executor/cuda/cuda_dnn.cc:9261] Unable to register cuDNN factory: Attempting to register factory for plugin cuDNN when one has already been registered\n",
      "2024-07-13 17:07:26.818403: E external/local_xla/xla/stream_executor/cuda/cuda_fft.cc:607] Unable to register cuFFT factory: Attempting to register factory for plugin cuFFT when one has already been registered\n",
      "2024-07-13 17:07:26.942407: E external/local_xla/xla/stream_executor/cuda/cuda_blas.cc:1515] Unable to register cuBLAS factory: Attempting to register factory for plugin cuBLAS when one has already been registered\n"
     ]
    },
    {
     "name": "stdout",
     "output_type": "stream",
     "text": [
      "Input shape: [18]\n"
     ]
    }
   ],
   "source": [
    "import pandas as pd\n",
    "from sklearn.preprocessing import StandardScaler, OneHotEncoder\n",
    "from sklearn.compose import make_column_transformer\n",
    "from sklearn.model_selection import GroupShuffleSplit\n",
    "\n",
    "from tensorflow import keras\n",
    "from tensorflow.keras import layers\n",
    "from tensorflow.keras import callbacks\n",
    "\n",
    "spotify = pd.read_csv('../input/dl-course-data/spotify.csv')\n",
    "\n",
    "X = spotify.copy().dropna()\n",
    "y = X.pop('track_popularity')\n",
    "artists = X['track_artist']\n",
    "\n",
    "features_num = ['danceability', 'energy', 'key', 'loudness', 'mode',\n",
    "                'speechiness', 'acousticness', 'instrumentalness',\n",
    "                'liveness', 'valence', 'tempo', 'duration_ms']\n",
    "features_cat = ['playlist_genre']\n",
    "\n",
    "preprocessor = make_column_transformer(\n",
    "    (StandardScaler(), features_num),\n",
    "    (OneHotEncoder(), features_cat),\n",
    ")\n",
    "\n",
    "def group_split(X, y, group, train_size=0.75):\n",
    "    splitter = GroupShuffleSplit(train_size=train_size)\n",
    "    train, test = next(splitter.split(X, y, groups=group))\n",
    "    return (X.iloc[train], X.iloc[test], y.iloc[train], y.iloc[test])\n",
    "\n",
    "X_train, X_valid, y_train, y_valid = group_split(X, y, artists)\n",
    "\n",
    "X_train = preprocessor.fit_transform(X_train)\n",
    "X_valid = preprocessor.transform(X_valid)\n",
    "y_train = y_train / 100\n",
    "y_valid = y_valid / 100\n",
    "\n",
    "input_shape = [X_train.shape[1]]\n",
    "print(\"Input shape: {}\".format(input_shape))"
   ]
  },
  {
   "cell_type": "markdown",
   "id": "27027ec7",
   "metadata": {
    "papermill": {
     "duration": 0.006079,
     "end_time": "2024-07-13T17:07:37.542891",
     "exception": false,
     "start_time": "2024-07-13T17:07:37.536812",
     "status": "completed"
    },
    "tags": []
   },
   "source": [
    "# 1) Add Dropout to Spotify Model\n",
    "\n",
    "Here is the last model from Exercise 4. Add two dropout layers, one after the `Dense` layer with 128 units, and one after the `Dense` layer with 64 units. Set the dropout rate on both to `0.3`."
   ]
  },
  {
   "cell_type": "code",
   "execution_count": 3,
   "id": "e6aaf538",
   "metadata": {
    "execution": {
     "iopub.execute_input": "2024-07-13T17:07:37.556782Z",
     "iopub.status.busy": "2024-07-13T17:07:37.556469Z",
     "iopub.status.idle": "2024-07-13T17:07:38.297150Z",
     "shell.execute_reply": "2024-07-13T17:07:38.296086Z"
    },
    "lines_to_next_cell": 2,
    "papermill": {
     "duration": 0.761642,
     "end_time": "2024-07-13T17:07:38.310690",
     "exception": false,
     "start_time": "2024-07-13T17:07:37.549048",
     "status": "completed"
    },
    "tags": []
   },
   "outputs": [
    {
     "data": {
      "application/javascript": [
       "parent.postMessage({\"jupyterEvent\": \"custom.exercise_interaction\", \"data\": {\"outcomeType\": 1, \"valueTowardsCompletion\": 0.25, \"interactionType\": 1, \"questionType\": 2, \"questionId\": \"1_Q1\", \"learnToolsVersion\": \"0.3.4\", \"failureMessage\": \"\", \"exceptionClass\": \"\", \"trace\": \"\"}}, \"*\")"
      ],
      "text/plain": [
       "<IPython.core.display.Javascript object>"
      ]
     },
     "metadata": {},
     "output_type": "display_data"
    },
    {
     "data": {
      "text/markdown": [
       "<span style=\"color:#33cc33\">Correct</span>"
      ],
      "text/plain": [
       "Correct"
      ]
     },
     "metadata": {},
     "output_type": "display_data"
    }
   ],
   "source": [
    "# YOUR CODE HERE: Add two 30% dropout layers, one after 128 and one after 64\n",
    "model = keras.Sequential([\n",
    "    layers.Dense(128, activation='relu', input_shape=input_shape),\n",
    "    layers.Dropout(0.3),\n",
    "    layers.Dense(64, activation='relu'),\n",
    "    layers.Dropout(0.3),\n",
    "    layers.Dense(1)\n",
    "])\n",
    "\n",
    "# Check your answer\n",
    "q_1.check()"
   ]
  },
  {
   "cell_type": "code",
   "execution_count": 4,
   "id": "9b1aa0e6",
   "metadata": {
    "execution": {
     "iopub.execute_input": "2024-07-13T17:07:38.326650Z",
     "iopub.status.busy": "2024-07-13T17:07:38.326346Z",
     "iopub.status.idle": "2024-07-13T17:07:38.330205Z",
     "shell.execute_reply": "2024-07-13T17:07:38.329470Z"
    },
    "papermill": {
     "duration": 0.013392,
     "end_time": "2024-07-13T17:07:38.332109",
     "exception": false,
     "start_time": "2024-07-13T17:07:38.318717",
     "status": "completed"
    },
    "tags": []
   },
   "outputs": [],
   "source": [
    "# Lines below will give you a hint or solution code\n",
    "#q_1.hint()\n",
    "#q_1.solution()"
   ]
  },
  {
   "cell_type": "markdown",
   "id": "23098a50",
   "metadata": {
    "papermill": {
     "duration": 0.006382,
     "end_time": "2024-07-13T17:07:38.345343",
     "exception": false,
     "start_time": "2024-07-13T17:07:38.338961",
     "status": "completed"
    },
    "tags": []
   },
   "source": [
    "Now run this next cell to train the model see the effect of adding dropout."
   ]
  },
  {
   "cell_type": "code",
   "execution_count": 5,
   "id": "4e1c2ae4",
   "metadata": {
    "execution": {
     "iopub.execute_input": "2024-07-13T17:07:38.361195Z",
     "iopub.status.busy": "2024-07-13T17:07:38.360505Z",
     "iopub.status.idle": "2024-07-13T17:07:49.662013Z",
     "shell.execute_reply": "2024-07-13T17:07:49.661120Z"
    },
    "papermill": {
     "duration": 11.311887,
     "end_time": "2024-07-13T17:07:49.664004",
     "exception": false,
     "start_time": "2024-07-13T17:07:38.352117",
     "status": "completed"
    },
    "tags": []
   },
   "outputs": [
    {
     "name": "stderr",
     "output_type": "stream",
     "text": [
      "WARNING: All log messages before absl::InitializeLog() is called are written to STDERR\n",
      "I0000 00:00:1720890460.836051      69 device_compiler.h:186] Compiled cluster using XLA!  This line is logged at most once for the lifetime of the process.\n"
     ]
    },
    {
     "name": "stdout",
     "output_type": "stream",
     "text": [
      "Minimum Validation Loss: 0.1890\n"
     ]
    },
    {
     "data": {
      "image/png": "[encoded data removed]",
      "text/plain": [
       "<Figure size 640x480 with 1 Axes>"
      ]
     },
     "metadata": {},
     "output_type": "display_data"
    }
   ],
   "source": [
    "model.compile(\n",
    "    optimizer='adam',\n",
    "    loss='mae',\n",
    ")\n",
    "history = model.fit(\n",
    "    X_train, y_train,\n",
    "    validation_data=(X_valid, y_valid),\n",
    "    batch_size=512,\n",
    "    epochs=50,\n",
    "    verbose=0,\n",
    ")\n",
    "history_df = pd.DataFrame(history.history)\n",
    "history_df.loc[:, ['loss', 'val_loss']].plot()\n",
    "print(\"Minimum Validation Loss: {:0.4f}\".format(history_df['val_loss'].min()))"
   ]
  },
  {
   "cell_type": "markdown",
   "id": "2448d9e2",
   "metadata": {
    "papermill": {
     "duration": 0.006965,
     "end_time": "2024-07-13T17:07:49.678302",
     "exception": false,
     "start_time": "2024-07-13T17:07:49.671337",
     "status": "completed"
    },
    "tags": []
   },
   "source": [
    "# 2) Evaluate Dropout\n",
    "\n",
    "Recall from Exercise 4 that this model tended to overfit the data around epoch 5. Did adding dropout seem to help prevent overfitting this time?"
   ]
  },
  {
   "cell_type": "code",
   "execution_count": 6,
   "id": "3f491a26",
   "metadata": {
    "execution": {
     "iopub.execute_input": "2024-07-13T17:07:49.693906Z",
     "iopub.status.busy": "2024-07-13T17:07:49.693390Z",
     "iopub.status.idle": "2024-07-13T17:07:49.700510Z",
     "shell.execute_reply": "2024-07-13T17:07:49.699665Z"
    },
    "papermill": {
     "duration": 0.017025,
     "end_time": "2024-07-13T17:07:49.702457",
     "exception": false,
     "start_time": "2024-07-13T17:07:49.685432",
     "status": "completed"
    },
    "tags": []
   },
   "outputs": [
    {
     "data": {
      "application/javascript": [
       "parent.postMessage({\"jupyterEvent\": \"custom.exercise_interaction\", \"data\": {\"outcomeType\": 1, \"valueTowardsCompletion\": 0.25, \"interactionType\": 1, \"questionType\": 4, \"questionId\": \"2_Q2\", \"learnToolsVersion\": \"0.3.4\", \"failureMessage\": \"\", \"exceptionClass\": \"\", \"trace\": \"\"}}, \"*\")"
      ],
      "text/plain": [
       "<IPython.core.display.Javascript object>"
      ]
     },
     "metadata": {},
     "output_type": "display_data"
    },
    {
     "data": {
      "text/markdown": [
       "<span style=\"color:#33cc33\">Correct:</span> \n",
       "\n",
       "\n",
       "From the learning curves, you can see that the validation loss remains near a constant minimum even though the training loss continues to decrease. So we can see that adding dropout did prevent overfitting this time. Moreover, by making it harder for the network to fit spurious patterns, dropout may have encouraged the network to seek out more of the true patterns, possibly improving the validation loss some as well).\n"
      ],
      "text/plain": [
       "Correct: \n",
       "\n",
       "\n",
       "From the learning curves, you can see that the validation loss remains near a constant minimum even though the training loss continues to decrease. So we can see that adding dropout did prevent overfitting this time. Moreover, by making it harder for the network to fit spurious patterns, dropout may have encouraged the network to seek out more of the true patterns, possibly improving the validation loss some as well)."
      ]
     },
     "metadata": {},
     "output_type": "display_data"
    }
   ],
   "source": [
    "# View the solution (Run this cell to receive credit!)\n",
    "q_2.check()"
   ]
  },
  {
   "cell_type": "markdown",
   "id": "a6875b8d",
   "metadata": {
    "papermill": {
     "duration": 0.007204,
     "end_time": "2024-07-13T17:07:49.717288",
     "exception": false,
     "start_time": "2024-07-13T17:07:49.710084",
     "status": "completed"
    },
    "tags": []
   },
   "source": [
    "Now, we'll switch topics to explore how batch normalization can fix problems in training.\n",
    "\n",
    "Load the *Concrete* dataset. We won't do any standardization this time. This will make the effect of batch normalization much more apparent."
   ]
  },
  {
   "cell_type": "code",
   "execution_count": 7,
   "id": "bdb2e7ee",
   "metadata": {
    "execution": {
     "iopub.execute_input": "2024-07-13T17:07:49.733277Z",
     "iopub.status.busy": "2024-07-13T17:07:49.732786Z",
     "iopub.status.idle": "2024-07-13T17:07:49.758312Z",
     "shell.execute_reply": "2024-07-13T17:07:49.757314Z"
    },
    "papermill": {
     "duration": 0.035494,
     "end_time": "2024-07-13T17:07:49.760172",
     "exception": false,
     "start_time": "2024-07-13T17:07:49.724678",
     "status": "completed"
    },
    "tags": []
   },
   "outputs": [],
   "source": [
    "import pandas as pd\n",
    "\n",
    "concrete = pd.read_csv('../input/dl-course-data/concrete.csv')\n",
    "df = concrete.copy()\n",
    "\n",
    "df_train = df.sample(frac=0.7, random_state=0)\n",
    "df_valid = df.drop(df_train.index)\n",
    "\n",
    "X_train = df_train.drop('CompressiveStrength', axis=1)\n",
    "X_valid = df_valid.drop('CompressiveStrength', axis=1)\n",
    "y_train = df_train['CompressiveStrength']\n",
    "y_valid = df_valid['CompressiveStrength']\n",
    "\n",
    "input_shape = [X_train.shape[1]]"
   ]
  },
  {
   "cell_type": "markdown",
   "id": "cb75c77d",
   "metadata": {
    "papermill": {
     "duration": 0.007252,
     "end_time": "2024-07-13T17:07:49.775013",
     "exception": false,
     "start_time": "2024-07-13T17:07:49.767761",
     "status": "completed"
    },
    "tags": []
   },
   "source": [
    "Run the following cell to train the network on the unstandardized *Concrete* data."
   ]
  },
  {
   "cell_type": "code",
   "execution_count": 8,
   "id": "78440df7",
   "metadata": {
    "execution": {
     "iopub.execute_input": "2024-07-13T17:07:49.791436Z",
     "iopub.status.busy": "2024-07-13T17:07:49.790766Z",
     "iopub.status.idle": "2024-07-13T17:07:56.880245Z",
     "shell.execute_reply": "2024-07-13T17:07:56.879323Z"
    },
    "papermill": {
     "duration": 7.099604,
     "end_time": "2024-07-13T17:07:56.882116",
     "exception": false,
     "start_time": "2024-07-13T17:07:49.782512",
     "status": "completed"
    },
    "tags": []
   },
   "outputs": [
    {
     "name": "stdout",
     "output_type": "stream",
     "text": [
      "Minimum Validation Loss: nan\n"
     ]
    },
    {
     "data": {
      "image/png": "[encoded data removed]",
      "text/plain": [
       "<Figure size 640x480 with 1 Axes>"
      ]
     },
     "metadata": {},
     "output_type": "display_data"
    }
   ],
   "source": [
    "model = keras.Sequential([\n",
    "    layers.Dense(512, activation='relu', input_shape=input_shape),\n",
    "    layers.Dense(512, activation='relu'),    \n",
    "    layers.Dense(512, activation='relu'),\n",
    "    layers.Dense(1),\n",
    "])\n",
    "model.compile(\n",
    "    optimizer='sgd', # SGD is more sensitive to differences of scale\n",
    "    loss='mae',\n",
    "    metrics=['mae'],\n",
    ")\n",
    "history = model.fit(\n",
    "    X_train, y_train,\n",
    "    validation_data=(X_valid, y_valid),\n",
    "    batch_size=64,\n",
    "    epochs=100,\n",
    "    verbose=0,\n",
    ")\n",
    "\n",
    "history_df = pd.DataFrame(history.history)\n",
    "history_df.loc[0:, ['loss', 'val_loss']].plot()\n",
    "print((\"Minimum Validation Loss: {:0.4f}\").format(history_df['val_loss'].min()))"
   ]
  },
  {
   "cell_type": "markdown",
   "id": "f05dca55",
   "metadata": {
    "papermill": {
     "duration": 0.007717,
     "end_time": "2024-07-13T17:07:56.897977",
     "exception": false,
     "start_time": "2024-07-13T17:07:56.890260",
     "status": "completed"
    },
    "tags": []
   },
   "source": [
    "Did you end up with a blank graph? Trying to train this network on this dataset will usually fail. Even when it does converge (due to a lucky weight initialization), it tends to converge to a very large number.\n",
    "\n",
    "# 3) Add Batch Normalization Layers\n",
    "\n",
    "Batch normalization can help correct problems like this.\n",
    "\n",
    "Add four `BatchNormalization` layers, one before each of the dense layers. (Remember to move the `input_shape` argument to the new first layer.)"
   ]
  },
  {
   "cell_type": "code",
   "execution_count": 9,
   "id": "f1be79a2",
   "metadata": {
    "execution": {
     "iopub.execute_input": "2024-07-13T17:07:56.915088Z",
     "iopub.status.busy": "2024-07-13T17:07:56.914782Z",
     "iopub.status.idle": "2024-07-13T17:07:56.938580Z",
     "shell.execute_reply": "2024-07-13T17:07:56.937709Z"
    },
    "lines_to_next_cell": 0,
    "papermill": {
     "duration": 0.034559,
     "end_time": "2024-07-13T17:07:56.940540",
     "exception": false,
     "start_time": "2024-07-13T17:07:56.905981",
     "status": "completed"
    },
    "tags": []
   },
   "outputs": [
    {
     "data": {
      "application/javascript": [
       "parent.postMessage({\"jupyterEvent\": \"custom.exercise_interaction\", \"data\": {\"outcomeType\": 1, \"valueTowardsCompletion\": 0.25, \"interactionType\": 1, \"questionType\": 2, \"questionId\": \"3_Q3\", \"learnToolsVersion\": \"0.3.4\", \"failureMessage\": \"\", \"exceptionClass\": \"\", \"trace\": \"\"}}, \"*\")"
      ],
      "text/plain": [
       "<IPython.core.display.Javascript object>"
      ]
     },
     "metadata": {},
     "output_type": "display_data"
    },
    {
     "data": {
      "text/markdown": [
       "<span style=\"color:#33cc33\">Correct</span>"
      ],
      "text/plain": [
       "Correct"
      ]
     },
     "metadata": {},
     "output_type": "display_data"
    }
   ],
   "source": [
    "# YOUR CODE HERE: Add a BatchNormalization layer before each Dense layer\n",
    "model = keras.Sequential([\n",
    "    layers.BatchNormalization(),\n",
    "    layers.Dense(512, activation='relu', input_shape=input_shape),\n",
    "    layers.BatchNormalization(),\n",
    "    layers.Dense(512, activation='relu'),\n",
    "    layers.BatchNormalization(),\n",
    "    layers.Dense(512, activation='relu'),\n",
    "    layers.BatchNormalization(),\n",
    "    layers.Dense(1),\n",
    "])\n",
    "\n",
    "# Check your answer\n",
    "q_3.check()"
   ]
  },
  {
   "cell_type": "code",
   "execution_count": 10,
   "id": "f7b04302",
   "metadata": {
    "execution": {
     "iopub.execute_input": "2024-07-13T17:07:56.957568Z",
     "iopub.status.busy": "2024-07-13T17:07:56.957316Z",
     "iopub.status.idle": "2024-07-13T17:07:56.960964Z",
     "shell.execute_reply": "2024-07-13T17:07:56.960072Z"
    },
    "papermill": {
     "duration": 0.014409,
     "end_time": "2024-07-13T17:07:56.962938",
     "exception": false,
     "start_time": "2024-07-13T17:07:56.948529",
     "status": "completed"
    },
    "tags": []
   },
   "outputs": [],
   "source": [
    "# Lines below will give you a hint or solution code\n",
    "#q_3.hint()\n",
    "#q_3.solution()"
   ]
  },
  {
   "cell_type": "markdown",
   "id": "cfc1c064",
   "metadata": {
    "papermill": {
     "duration": 0.007849,
     "end_time": "2024-07-13T17:07:56.978952",
     "exception": false,
     "start_time": "2024-07-13T17:07:56.971103",
     "status": "completed"
    },
    "tags": []
   },
   "source": [
    "Run the next cell to see if batch normalization will let us train the model."
   ]
  },
  {
   "cell_type": "code",
   "execution_count": 11,
   "id": "85784912",
   "metadata": {
    "execution": {
     "iopub.execute_input": "2024-07-13T17:07:56.996812Z",
     "iopub.status.busy": "2024-07-13T17:07:56.996541Z",
     "iopub.status.idle": "2024-07-13T17:08:08.252974Z",
     "shell.execute_reply": "2024-07-13T17:08:08.252052Z"
    },
    "papermill": {
     "duration": 11.267989,
     "end_time": "2024-07-13T17:08:08.255039",
     "exception": false,
     "start_time": "2024-07-13T17:07:56.987050",
     "status": "completed"
    },
    "tags": []
   },
   "outputs": [
    {
     "name": "stdout",
     "output_type": "stream",
     "text": [
      "Minimum Validation Loss: 3.8912\n"
     ]
    },
    {
     "data": {
      "image/png": "[encoded data removed]",
      "text/plain": [
       "<Figure size 640x480 with 1 Axes>"
      ]
     },
     "metadata": {},
     "output_type": "display_data"
    }
   ],
   "source": [
    "model.compile(\n",
    "    optimizer='sgd',\n",
    "    loss='mae',\n",
    "    metrics=['mae'],\n",
    ")\n",
    "EPOCHS = 100\n",
    "history = model.fit(\n",
    "    X_train, y_train,\n",
    "    validation_data=(X_valid, y_valid),\n",
    "    batch_size=64,\n",
    "    epochs=EPOCHS,\n",
    "    verbose=0,\n",
    ")\n",
    "\n",
    "history_df = pd.DataFrame(history.history)\n",
    "history_df.loc[0:, ['loss', 'val_loss']].plot()\n",
    "print((\"Minimum Validation Loss: {:0.4f}\").format(history_df['val_loss'].min()))"
   ]
  },
  {
   "cell_type": "markdown",
   "id": "eae0f080",
   "metadata": {
    "papermill": {
     "duration": 0.008599,
     "end_time": "2024-07-13T17:08:08.272700",
     "exception": false,
     "start_time": "2024-07-13T17:08:08.264101",
     "status": "completed"
    },
    "tags": []
   },
   "source": [
    "# 4) Evaluate Batch Normalization\n",
    "\n",
    "Did adding batch normalization help?"
   ]
  },
  {
   "cell_type": "code",
   "execution_count": 12,
   "id": "403a524b",
   "metadata": {
    "execution": {
     "iopub.execute_input": "2024-07-13T17:08:08.291355Z",
     "iopub.status.busy": "2024-07-13T17:08:08.291034Z",
     "iopub.status.idle": "2024-07-13T17:08:08.298290Z",
     "shell.execute_reply": "2024-07-13T17:08:08.297430Z"
    },
    "lines_to_next_cell": 0,
    "papermill": {
     "duration": 0.018647,
     "end_time": "2024-07-13T17:08:08.300129",
     "exception": false,
     "start_time": "2024-07-13T17:08:08.281482",
     "status": "completed"
    },
    "tags": []
   },
   "outputs": [
    {
     "data": {
      "application/javascript": [
       "parent.postMessage({\"jupyterEvent\": \"custom.exercise_interaction\", \"data\": {\"outcomeType\": 1, \"valueTowardsCompletion\": 0.25, \"interactionType\": 1, \"questionType\": 4, \"questionId\": \"4_Q4\", \"learnToolsVersion\": \"0.3.4\", \"failureMessage\": \"\", \"exceptionClass\": \"\", \"trace\": \"\"}}, \"*\")"
      ],
      "text/plain": [
       "<IPython.core.display.Javascript object>"
      ]
     },
     "metadata": {},
     "output_type": "display_data"
    },
    {
     "data": {
      "text/markdown": [
       "<span style=\"color:#33cc33\">Correct:</span> \n",
       "\n",
       "\n",
       "You can see that adding batch normalization was a big improvement on the first attempt! By adaptively scaling the data as it passes through the network, batch normalization can let you train models on difficult datasets.\n"
      ],
      "text/plain": [
       "Correct: \n",
       "\n",
       "\n",
       "You can see that adding batch normalization was a big improvement on the first attempt! By adaptively scaling the data as it passes through the network, batch normalization can let you train models on difficult datasets."
      ]
     },
     "metadata": {},
     "output_type": "display_data"
    }
   ],
   "source": [
    "# View the solution (Run this cell to receive credit!)\n",
    "q_4.check()"
   ]
  },
  {
   "cell_type": "markdown",
   "id": "62b9d996",
   "metadata": {
    "papermill": {
     "duration": 0.008661,
     "end_time": "2024-07-13T17:08:08.318000",
     "exception": false,
     "start_time": "2024-07-13T17:08:08.309339",
     "status": "completed"
    },
    "tags": []
   },
   "source": [
    "# Keep Going #\n",
    "\n",
    "[**Create neural networks**](https://www.kaggle.com/ryanholbrook/binary-classification) for binary classification."
   ]
  },
  {
   "cell_type": "markdown",
   "id": "fbdedfff",
   "metadata": {
    "papermill": {
     "duration": 0.008763,
     "end_time": "2024-07-13T17:08:08.336118",
     "exception": false,
     "start_time": "2024-07-13T17:08:08.327355",
     "status": "completed"
    },
    "tags": []
   },
   "source": [
    "---\n",
    "\n",
    "\n",
    "\n",
    "\n",
    "*Have questions or comments? Visit the [course discussion forum](https://www.kaggle.com/learn/intro-to-deep-learning/discussion) to chat with other learners.*"
   ]
  }
 ],
 "metadata": {
  "jupytext": {
   "cell_metadata_filter": "-all",
   "formats": "ipynb"
  },
  "kaggle": {
   "accelerator": "gpu",
   "dataSources": [
    {
     "datasetId": 829369,
     "sourceId": 1480608,
     "sourceType": "datasetVersion"
    }
   ],
   "dockerImageVersionId": 30648,
   "isGpuEnabled": true,
   "isInternetEnabled": false,
   "language": "python",
   "sourceType": "notebook"
  },
  "kernelspec": {
   "display_name": "Python 3",
   "language": "python",
   "name": "python3"
  },
  "language_info": {
   "codemirror_mode": {
    "name": "ipython",
    "version": 3
   },
   "file_extension": ".py",
   "mimetype": "text/x-python",
   "name": "python",
   "nbconvert_exporter": "python",
   "pygments_lexer": "ipython3",
   "version": "3.10.13"
  },
  "papermill": {
   "default_parameters": {},
   "duration": 50.073736,
   "end_time": "2024-07-13T17:08:10.742787",
   "environment_variables": {},
   "exception": null,
   "input_path": "__notebook__.ipynb",
   "output_path": "__notebook__.ipynb",
   "parameters": {},
   "start_time": "2024-07-13T17:07:20.669051",
   "version": "2.5.0"
  }
 },
 "nbformat": 4,
 "nbformat_minor": 5
}

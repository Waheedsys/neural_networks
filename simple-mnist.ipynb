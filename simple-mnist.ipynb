{
 "cells": [
  {
   "cell_type": "code",
   "execution_count": 1,
   "id": "e796a124",
   "metadata": {
    "_cell_guid": "b1076dfc-b9ad-4769-8c92-a6c4dae69d19",
    "_uuid": "8f2839f25d086af736a60e9eeb907d3b93b6e0e5",
    "execution": {
     "iopub.execute_input": "2024-07-14T12:08:19.746661Z",
     "iopub.status.busy": "2024-07-14T12:08:19.746231Z",
     "iopub.status.idle": "2024-07-14T12:08:20.723928Z",
     "shell.execute_reply": "2024-07-14T12:08:20.722508Z"
    },
    "papermill": {
     "duration": 0.986314,
     "end_time": "2024-07-14T12:08:20.726435",
     "exception": false,
     "start_time": "2024-07-14T12:08:19.740121",
     "status": "completed"
    },
    "tags": []
   },
   "outputs": [
    {
     "name": "stdout",
     "output_type": "stream",
     "text": [
      "/kaggle/input/digit-recognizer/sample_submission.csv\n",
      "/kaggle/input/digit-recognizer/train.csv\n",
      "/kaggle/input/digit-recognizer/test.csv\n"
     ]
    }
   ],
   "source": [
    "# This Python 3 environment comes with many helpful analytics libraries installed\n",
    "# It is defined by the kaggle/python Docker image: https://github.com/kaggle/docker-python\n",
    "# For example, here's several helpful packages to load\n",
    "\n",
    "import numpy as np # linear algebra\n",
    "import pandas as pd # data processing, CSV file I/O (e.g. pd.read_csv)\n",
    "\n",
    "# Input data files are available in the read-only \"../input/\" directory\n",
    "# For example, running this (by clicking run or pressing Shift+Enter) will list all files under the input directory\n",
    "\n",
    "import os\n",
    "for dirname, _, filenames in os.walk('/kaggle/input'):\n",
    "    for filename in filenames:\n",
    "        print(os.path.join(dirname, filename))\n",
    "\n",
    "# You can write up to 20GB to the current directory (/kaggle/working/) that gets preserved as output when you create a version using \"Save & Run All\" \n",
    "# You can also write temporary files to /kaggle/temp/, but they won't be saved outside of the current session"
   ]
  },
  {
   "cell_type": "code",
   "execution_count": 2,
   "id": "5d41b77c",
   "metadata": {
    "execution": {
     "iopub.execute_input": "2024-07-14T12:08:20.736360Z",
     "iopub.status.busy": "2024-07-14T12:08:20.735812Z",
     "iopub.status.idle": "2024-07-14T12:08:20.741596Z",
     "shell.execute_reply": "2024-07-14T12:08:20.740295Z"
    },
    "papermill": {
     "duration": 0.013452,
     "end_time": "2024-07-14T12:08:20.743976",
     "exception": false,
     "start_time": "2024-07-14T12:08:20.730524",
     "status": "completed"
    },
    "tags": []
   },
   "outputs": [],
   "source": [
    "import pandas as pd\n",
    "import numpy as np\n",
    "from matplotlib import pyplot as plt"
   ]
  },
  {
   "cell_type": "code",
   "execution_count": 3,
   "id": "5b242bbb",
   "metadata": {
    "execution": {
     "iopub.execute_input": "2024-07-14T12:08:20.753707Z",
     "iopub.status.busy": "2024-07-14T12:08:20.752925Z",
     "iopub.status.idle": "2024-07-14T12:08:24.185742Z",
     "shell.execute_reply": "2024-07-14T12:08:24.184555Z"
    },
    "papermill": {
     "duration": 3.440485,
     "end_time": "2024-07-14T12:08:24.188409",
     "exception": false,
     "start_time": "2024-07-14T12:08:20.747924",
     "status": "completed"
    },
    "tags": []
   },
   "outputs": [],
   "source": [
    "data = pd.read_csv('/kaggle/input/digit-recognizer/train.csv')"
   ]
  },
  {
   "cell_type": "code",
   "execution_count": 4,
   "id": "6fbaad1a",
   "metadata": {
    "execution": {
     "iopub.execute_input": "2024-07-14T12:08:24.198604Z",
     "iopub.status.busy": "2024-07-14T12:08:24.197450Z",
     "iopub.status.idle": "2024-07-14T12:08:24.229341Z",
     "shell.execute_reply": "2024-07-14T12:08:24.227980Z"
    },
    "papermill": {
     "duration": 0.039718,
     "end_time": "2024-07-14T12:08:24.232034",
     "exception": false,
     "start_time": "2024-07-14T12:08:24.192316",
     "status": "completed"
    },
    "tags": []
   },
   "outputs": [
    {
     "data": {
      "text/html": [
       "<div>\n",
       "<style scoped>\n",
       "    .dataframe tbody tr th:only-of-type {\n",
       "        vertical-align: middle;\n",
       "    }\n",
       "\n",
       "    .dataframe tbody tr th {\n",
       "        vertical-align: top;\n",
       "    }\n",
       "\n",
       "    .dataframe thead th {\n",
       "        text-align: right;\n",
       "    }\n",
       "</style>\n",
       "<table border=\"1\" class=\"dataframe\">\n",
       "  <thead>\n",
       "    <tr style=\"text-align: right;\">\n",
       "      <th></th>\n",
       "      <th>label</th>\n",
       "      <th>pixel0</th>\n",
       "      <th>pixel1</th>\n",
       "      <th>pixel2</th>\n",
       "      <th>pixel3</th>\n",
       "      <th>pixel4</th>\n",
       "      <th>pixel5</th>\n",
       "      <th>pixel6</th>\n",
       "      <th>pixel7</th>\n",
       "      <th>pixel8</th>\n",
       "      <th>...</th>\n",
       "      <th>pixel774</th>\n",
       "      <th>pixel775</th>\n",
       "      <th>pixel776</th>\n",
       "      <th>pixel777</th>\n",
       "      <th>pixel778</th>\n",
       "      <th>pixel779</th>\n",
       "      <th>pixel780</th>\n",
       "      <th>pixel781</th>\n",
       "      <th>pixel782</th>\n",
       "      <th>pixel783</th>\n",
       "    </tr>\n",
       "  </thead>\n",
       "  <tbody>\n",
       "    <tr>\n",
       "      <th>0</th>\n",
       "      <td>1</td>\n",
       "      <td>0</td>\n",
       "      <td>0</td>\n",
       "      <td>0</td>\n",
       "      <td>0</td>\n",
       "      <td>0</td>\n",
       "      <td>0</td>\n",
       "      <td>0</td>\n",
       "      <td>0</td>\n",
       "      <td>0</td>\n",
       "      <td>...</td>\n",
       "      <td>0</td>\n",
       "      <td>0</td>\n",
       "      <td>0</td>\n",
       "      <td>0</td>\n",
       "      <td>0</td>\n",
       "      <td>0</td>\n",
       "      <td>0</td>\n",
       "      <td>0</td>\n",
       "      <td>0</td>\n",
       "      <td>0</td>\n",
       "    </tr>\n",
       "    <tr>\n",
       "      <th>1</th>\n",
       "      <td>0</td>\n",
       "      <td>0</td>\n",
       "      <td>0</td>\n",
       "      <td>0</td>\n",
       "      <td>0</td>\n",
       "      <td>0</td>\n",
       "      <td>0</td>\n",
       "      <td>0</td>\n",
       "      <td>0</td>\n",
       "      <td>0</td>\n",
       "      <td>...</td>\n",
       "      <td>0</td>\n",
       "      <td>0</td>\n",
       "      <td>0</td>\n",
       "      <td>0</td>\n",
       "      <td>0</td>\n",
       "      <td>0</td>\n",
       "      <td>0</td>\n",
       "      <td>0</td>\n",
       "      <td>0</td>\n",
       "      <td>0</td>\n",
       "    </tr>\n",
       "    <tr>\n",
       "      <th>2</th>\n",
       "      <td>1</td>\n",
       "      <td>0</td>\n",
       "      <td>0</td>\n",
       "      <td>0</td>\n",
       "      <td>0</td>\n",
       "      <td>0</td>\n",
       "      <td>0</td>\n",
       "      <td>0</td>\n",
       "      <td>0</td>\n",
       "      <td>0</td>\n",
       "      <td>...</td>\n",
       "      <td>0</td>\n",
       "      <td>0</td>\n",
       "      <td>0</td>\n",
       "      <td>0</td>\n",
       "      <td>0</td>\n",
       "      <td>0</td>\n",
       "      <td>0</td>\n",
       "      <td>0</td>\n",
       "      <td>0</td>\n",
       "      <td>0</td>\n",
       "    </tr>\n",
       "    <tr>\n",
       "      <th>3</th>\n",
       "      <td>4</td>\n",
       "      <td>0</td>\n",
       "      <td>0</td>\n",
       "      <td>0</td>\n",
       "      <td>0</td>\n",
       "      <td>0</td>\n",
       "      <td>0</td>\n",
       "      <td>0</td>\n",
       "      <td>0</td>\n",
       "      <td>0</td>\n",
       "      <td>...</td>\n",
       "      <td>0</td>\n",
       "      <td>0</td>\n",
       "      <td>0</td>\n",
       "      <td>0</td>\n",
       "      <td>0</td>\n",
       "      <td>0</td>\n",
       "      <td>0</td>\n",
       "      <td>0</td>\n",
       "      <td>0</td>\n",
       "      <td>0</td>\n",
       "    </tr>\n",
       "    <tr>\n",
       "      <th>4</th>\n",
       "      <td>0</td>\n",
       "      <td>0</td>\n",
       "      <td>0</td>\n",
       "      <td>0</td>\n",
       "      <td>0</td>\n",
       "      <td>0</td>\n",
       "      <td>0</td>\n",
       "      <td>0</td>\n",
       "      <td>0</td>\n",
       "      <td>0</td>\n",
       "      <td>...</td>\n",
       "      <td>0</td>\n",
       "      <td>0</td>\n",
       "      <td>0</td>\n",
       "      <td>0</td>\n",
       "      <td>0</td>\n",
       "      <td>0</td>\n",
       "      <td>0</td>\n",
       "      <td>0</td>\n",
       "      <td>0</td>\n",
       "      <td>0</td>\n",
       "    </tr>\n",
       "  </tbody>\n",
       "</table>\n",
       "<p>5 rows × 785 columns</p>\n",
       "</div>"
      ],
      "text/plain": [
       "   label  pixel0  pixel1  pixel2  pixel3  pixel4  pixel5  pixel6  pixel7  \\\n",
       "0      1       0       0       0       0       0       0       0       0   \n",
       "1      0       0       0       0       0       0       0       0       0   \n",
       "2      1       0       0       0       0       0       0       0       0   \n",
       "3      4       0       0       0       0       0       0       0       0   \n",
       "4      0       0       0       0       0       0       0       0       0   \n",
       "\n",
       "   pixel8  ...  pixel774  pixel775  pixel776  pixel777  pixel778  pixel779  \\\n",
       "0       0  ...         0         0         0         0         0         0   \n",
       "1       0  ...         0         0         0         0         0         0   \n",
       "2       0  ...         0         0         0         0         0         0   \n",
       "3       0  ...         0         0         0         0         0         0   \n",
       "4       0  ...         0         0         0         0         0         0   \n",
       "\n",
       "   pixel780  pixel781  pixel782  pixel783  \n",
       "0         0         0         0         0  \n",
       "1         0         0         0         0  \n",
       "2         0         0         0         0  \n",
       "3         0         0         0         0  \n",
       "4         0         0         0         0  \n",
       "\n",
       "[5 rows x 785 columns]"
      ]
     },
     "execution_count": 4,
     "metadata": {},
     "output_type": "execute_result"
    }
   ],
   "source": [
    "data.head()"
   ]
  },
  {
   "cell_type": "code",
   "execution_count": 5,
   "id": "eab044a9",
   "metadata": {
    "execution": {
     "iopub.execute_input": "2024-07-14T12:08:24.242820Z",
     "iopub.status.busy": "2024-07-14T12:08:24.241818Z",
     "iopub.status.idle": "2024-07-14T12:08:25.063186Z",
     "shell.execute_reply": "2024-07-14T12:08:25.061289Z"
    },
    "papermill": {
     "duration": 0.830641,
     "end_time": "2024-07-14T12:08:25.066889",
     "exception": false,
     "start_time": "2024-07-14T12:08:24.236248",
     "status": "completed"
    },
    "tags": []
   },
   "outputs": [],
   "source": [
    "data = np.array(data)\n",
    "m, n = data.shape\n",
    "np.random.shuffle(data)\n",
    "\n",
    "data_dev = data[0:1000].T\n",
    "Y_dev = data_dev[0]\n",
    "X_dev = data_dev[1:n]\n",
    "X_dev = X_dev / 255.\n",
    "\n",
    "data_train = data[1000:m].T\n",
    "Y_train = data_train[0]\n",
    "X_train = data_train[1:n]\n",
    "X_train = X_train / 255.\n",
    "_,m_train = X_train.shape"
   ]
  },
  {
   "cell_type": "code",
   "execution_count": 6,
   "id": "1eb01f90",
   "metadata": {
    "execution": {
     "iopub.execute_input": "2024-07-14T12:08:25.079133Z",
     "iopub.status.busy": "2024-07-14T12:08:25.078560Z",
     "iopub.status.idle": "2024-07-14T12:08:25.088757Z",
     "shell.execute_reply": "2024-07-14T12:08:25.087068Z"
    },
    "papermill": {
     "duration": 0.020122,
     "end_time": "2024-07-14T12:08:25.092078",
     "exception": false,
     "start_time": "2024-07-14T12:08:25.071956",
     "status": "completed"
    },
    "tags": []
   },
   "outputs": [
    {
     "data": {
      "text/plain": [
       "(784,)"
      ]
     },
     "execution_count": 6,
     "metadata": {},
     "output_type": "execute_result"
    }
   ],
   "source": [
    "X_train[:, 0].shape"
   ]
  },
  {
   "cell_type": "code",
   "execution_count": 7,
   "id": "2eff3937",
   "metadata": {
    "execution": {
     "iopub.execute_input": "2024-07-14T12:08:25.104039Z",
     "iopub.status.busy": "2024-07-14T12:08:25.103239Z",
     "iopub.status.idle": "2024-07-14T12:08:25.117308Z",
     "shell.execute_reply": "2024-07-14T12:08:25.115402Z"
    },
    "papermill": {
     "duration": 0.023398,
     "end_time": "2024-07-14T12:08:25.120242",
     "exception": false,
     "start_time": "2024-07-14T12:08:25.096844",
     "status": "completed"
    },
    "tags": []
   },
   "outputs": [],
   "source": [
    "def init_params():\n",
    "    W1 = np.random.rand(10, 784) - 0.5\n",
    "    b1 = np.random.rand(10, 1) - 0.5\n",
    "    W2 = np.random.rand(10, 10) - 0.5\n",
    "    b2 = np.random.rand(10, 1) - 0.5\n",
    "    return W1, b1, W2, b2\n",
    "\n",
    "def ReLU(Z):\n",
    "    return np.maximum(Z, 0)\n",
    "\n",
    "def softmax(Z):\n",
    "    A = np.exp(Z) / sum(np.exp(Z))\n",
    "    return A\n",
    "    \n",
    "def forward_prop(W1, b1, W2, b2, X):\n",
    "    Z1 = W1.dot(X) + b1\n",
    "    A1 = ReLU(Z1)\n",
    "    Z2 = W2.dot(A1) + b2\n",
    "    A2 = softmax(Z2)\n",
    "    return Z1, A1, Z2, A2\n",
    "\n",
    "def ReLU_deriv(Z):\n",
    "    return Z > 0\n",
    "\n",
    "def one_hot(Y):\n",
    "    one_hot_Y = np.zeros((Y.size, Y.max() + 1))\n",
    "    one_hot_Y[np.arange(Y.size), Y] = 1\n",
    "    one_hot_Y = one_hot_Y.T\n",
    "    return one_hot_Y\n",
    "\n",
    "def backward_prop(Z1, A1, Z2, A2, W1, W2, X, Y):\n",
    "    one_hot_Y = one_hot(Y)\n",
    "    dZ2 = A2 - one_hot_Y\n",
    "    dW2 = 1 / m * dZ2.dot(A1.T)\n",
    "    db2 = 1 / m * np.sum(dZ2)\n",
    "    dZ1 = W2.T.dot(dZ2) * ReLU_deriv(Z1)\n",
    "    dW1 = 1 / m * dZ1.dot(X.T)\n",
    "    db1 = 1 / m * np.sum(dZ1)\n",
    "    return dW1, db1, dW2, db2\n",
    "\n",
    "def update_params(W1, b1, W2, b2, dW1, db1, dW2, db2, alpha):\n",
    "    W1 = W1 - alpha * dW1\n",
    "    b1 = b1 - alpha * db1    \n",
    "    W2 = W2 - alpha * dW2  \n",
    "    b2 = b2 - alpha * db2    \n",
    "    return W1, b1, W2, b2\n",
    "     "
   ]
  },
  {
   "cell_type": "code",
   "execution_count": 8,
   "id": "1d65a8b1",
   "metadata": {
    "execution": {
     "iopub.execute_input": "2024-07-14T12:08:25.134079Z",
     "iopub.status.busy": "2024-07-14T12:08:25.132499Z",
     "iopub.status.idle": "2024-07-14T12:08:25.145193Z",
     "shell.execute_reply": "2024-07-14T12:08:25.142968Z"
    },
    "papermill": {
     "duration": 0.023473,
     "end_time": "2024-07-14T12:08:25.148178",
     "exception": false,
     "start_time": "2024-07-14T12:08:25.124705",
     "status": "completed"
    },
    "tags": []
   },
   "outputs": [],
   "source": [
    "def get_predictions(A2):\n",
    "    return np.argmax(A2, 0)\n",
    "\n",
    "def get_accuracy(predictions, Y):\n",
    "    print(predictions, Y)\n",
    "    return np.sum(predictions == Y) / Y.size\n",
    "\n",
    "def gradient_descent(X, Y, alpha, iterations):\n",
    "    W1, b1, W2, b2 = init_params()\n",
    "    for i in range(iterations):\n",
    "        Z1, A1, Z2, A2 = forward_prop(W1, b1, W2, b2, X)\n",
    "        dW1, db1, dW2, db2 = backward_prop(Z1, A1, Z2, A2, W1, W2, X, Y)\n",
    "        W1, b1, W2, b2 = update_params(W1, b1, W2, b2, dW1, db1, dW2, db2, alpha)\n",
    "        if i % 20 == 0:\n",
    "            print(\"Iteration: \", i)\n",
    "            predictions = get_predictions(A2)\n",
    "            print(get_accuracy(predictions, Y))\n",
    "    return W1, b1, W2, b2\n",
    "            "
   ]
  },
  {
   "cell_type": "code",
   "execution_count": 9,
   "id": "97336879",
   "metadata": {
    "execution": {
     "iopub.execute_input": "2024-07-14T12:08:25.160700Z",
     "iopub.status.busy": "2024-07-14T12:08:25.160230Z",
     "iopub.status.idle": "2024-07-14T12:08:58.126777Z",
     "shell.execute_reply": "2024-07-14T12:08:58.125467Z"
    },
    "papermill": {
     "duration": 32.977086,
     "end_time": "2024-07-14T12:08:58.130330",
     "exception": false,
     "start_time": "2024-07-14T12:08:25.153244",
     "status": "completed"
    },
    "tags": []
   },
   "outputs": [
    {
     "name": "stdout",
     "output_type": "stream",
     "text": [
      "Iteration:  0\n",
      "[0 3 7 ... 1 3 4] [5 7 5 ... 7 6 6]\n",
      "0.13414634146341464\n",
      "Iteration:  20\n",
      "[0 7 7 ... 7 0 4] [5 7 5 ... 7 6 6]\n",
      "0.30046341463414633\n",
      "Iteration:  40\n",
      "[0 7 3 ... 7 6 6] [5 7 5 ... 7 6 6]\n",
      "0.45621951219512197\n",
      "Iteration:  60\n",
      "[0 7 3 ... 7 6 6] [5 7 5 ... 7 6 6]\n",
      "0.5527073170731708\n",
      "Iteration:  80\n",
      "[0 7 3 ... 7 6 6] [5 7 5 ... 7 6 6]\n",
      "0.615780487804878\n",
      "Iteration:  100\n",
      "[3 5 3 ... 7 6 6] [5 7 5 ... 7 6 6]\n",
      "0.6607804878048781\n",
      "Iteration:  120\n",
      "[3 5 3 ... 7 6 6] [5 7 5 ... 7 6 6]\n",
      "0.6950731707317073\n",
      "Iteration:  140\n",
      "[3 5 3 ... 7 6 6] [5 7 5 ... 7 6 6]\n",
      "0.7191219512195122\n",
      "Iteration:  160\n",
      "[3 5 3 ... 7 6 6] [5 7 5 ... 7 6 6]\n",
      "0.7368780487804878\n",
      "Iteration:  180\n",
      "[3 8 3 ... 7 6 6] [5 7 5 ... 7 6 6]\n",
      "0.7519512195121951\n",
      "Iteration:  200\n",
      "[3 8 3 ... 7 6 6] [5 7 5 ... 7 6 6]\n",
      "0.7638292682926829\n",
      "Iteration:  220\n",
      "[3 8 3 ... 7 6 6] [5 7 5 ... 7 6 6]\n",
      "0.773609756097561\n",
      "Iteration:  240\n",
      "[3 7 3 ... 7 6 6] [5 7 5 ... 7 6 6]\n",
      "0.7827804878048781\n",
      "Iteration:  260\n",
      "[3 7 3 ... 7 6 6] [5 7 5 ... 7 6 6]\n",
      "0.7905365853658537\n",
      "Iteration:  280\n",
      "[3 7 3 ... 7 6 6] [5 7 5 ... 7 6 6]\n",
      "0.797439024390244\n"
     ]
    }
   ],
   "source": [
    "W1, b1, W2, b2 = gradient_descent(X_train, Y_train, 0.1, 300)"
   ]
  },
  {
   "cell_type": "code",
   "execution_count": 10,
   "id": "8f45871d",
   "metadata": {
    "execution": {
     "iopub.execute_input": "2024-07-14T12:08:58.150148Z",
     "iopub.status.busy": "2024-07-14T12:08:58.149534Z",
     "iopub.status.idle": "2024-07-14T12:08:58.163852Z",
     "shell.execute_reply": "2024-07-14T12:08:58.162459Z"
    },
    "papermill": {
     "duration": 0.029545,
     "end_time": "2024-07-14T12:08:58.168530",
     "exception": false,
     "start_time": "2024-07-14T12:08:58.138985",
     "status": "completed"
    },
    "tags": []
   },
   "outputs": [],
   "source": [
    "def make_predictions(X, W1, b1, W2, b2):\n",
    "    _, _, _, A2 = forward_prop(W1, b1, W2, b2, X)\n",
    "    predictions = get_predictions(A2)\n",
    "    return predictions\n",
    "\n",
    "def test_prediction(index, W1, b1, W2, b2):\n",
    "    current_image = X_train[:, index, None]\n",
    "    prediction = make_predictions(X_train[:, index, None], W1, b1, W2, b2)\n",
    "    label = Y_train[index]\n",
    "    print(\"Prediction: \", prediction)\n",
    "    print(\"Label: \", label)\n",
    "    \n",
    "    current_image = current_image.reshape((28, 28)) * 200\n",
    "    plt.gray()\n",
    "    plt.imshow(current_image, interpolation='nearest')\n",
    "    plt.show()"
   ]
  },
  {
   "cell_type": "code",
   "execution_count": 11,
   "id": "e571a0d3",
   "metadata": {
    "execution": {
     "iopub.execute_input": "2024-07-14T12:08:58.189258Z",
     "iopub.status.busy": "2024-07-14T12:08:58.188731Z",
     "iopub.status.idle": "2024-07-14T12:08:59.048510Z",
     "shell.execute_reply": "2024-07-14T12:08:59.047164Z"
    },
    "papermill": {
     "duration": 0.872522,
     "end_time": "2024-07-14T12:08:59.051053",
     "exception": false,
     "start_time": "2024-07-14T12:08:58.178531",
     "status": "completed"
    },
    "tags": []
   },
   "outputs": [
    {
     "name": "stdout",
     "output_type": "stream",
     "text": [
      "Prediction:  [7]\n",
      "Label:  7\n"
     ]
    },
    {
     "data": {
      "image/png": "[encoded data removed]",
      "text/plain": [
       "<Figure size 640x480 with 1 Axes>"
      ]
     },
     "metadata": {},
     "output_type": "display_data"
    },
    {
     "name": "stdout",
     "output_type": "stream",
     "text": [
      "Prediction:  [4]\n",
      "Label:  4\n"
     ]
    },
    {
     "data": {
      "image/png": "[encoded data removed]",
      "text/plain": [
       "<Figure size 640x480 with 1 Axes>"
      ]
     },
     "metadata": {},
     "output_type": "display_data"
    },
    {
     "name": "stdout",
     "output_type": "stream",
     "text": [
      "Prediction:  [5]\n",
      "Label:  5\n"
     ]
    },
    {
     "data": {
      "image/png": "[encoded data removed]",
      "text/plain": [
       "<Figure size 640x480 with 1 Axes>"
      ]
     },
     "metadata": {},
     "output_type": "display_data"
    },
    {
     "name": "stdout",
     "output_type": "stream",
     "text": [
      "Prediction:  [4]\n",
      "Label:  4\n"
     ]
    },
    {
     "data": {
      "image/png": "[encoded data removed]",
      "text/plain": [
       "<Figure size 640x480 with 1 Axes>"
      ]
     },
     "metadata": {},
     "output_type": "display_data"
    }
   ],
   "source": [
    "test_prediction(90, W1, b1, W2, b2)\n",
    "test_prediction(10, W1, b1, W2, b2)\n",
    "test_prediction(26, W1, b1, W2, b2)\n",
    "test_prediction(3, W1, b1, W2, b2)"
   ]
  }
 ],
 "metadata": {
  "kaggle": {
   "accelerator": "none",
   "dataSources": [
    {
     "databundleVersionId": 861823,
     "sourceId": 3004,
     "sourceType": "competition"
    }
   ],
   "dockerImageVersionId": 30732,
   "isGpuEnabled": false,
   "isInternetEnabled": true,
   "language": "python",
   "sourceType": "notebook"
  },
  "kernelspec": {
   "display_name": "Python 3",
   "language": "python",
   "name": "python3"
  },
  "language_info": {
   "codemirror_mode": {
    "name": "ipython",
    "version": 3
   },
   "file_extension": ".py",
   "mimetype": "text/x-python",
   "name": "python",
   "nbconvert_exporter": "python",
   "pygments_lexer": "ipython3",
   "version": "3.10.13"
  },
  "papermill": {
   "default_parameters": {},
   "duration": 43.318663,
   "end_time": "2024-07-14T12:08:59.579866",
   "environment_variables": {},
   "exception": null,
   "input_path": "__notebook__.ipynb",
   "output_path": "__notebook__.ipynb",
   "parameters": {},
   "start_time": "2024-07-14T12:08:16.261203",
   "version": "2.5.0"
  }
 },
 "nbformat": 4,
 "nbformat_minor": 5
}
